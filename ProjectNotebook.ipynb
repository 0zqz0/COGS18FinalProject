{
 "cells": [
  {
   "cell_type": "markdown",
   "metadata": {},
   "source": [
    "# Project Description"
   ]
  },
  {
   "cell_type": "markdown",
   "metadata": {},
   "source": [
    "Welcome to the Meteorology Quiz! This quiz is inspired by chatbot, and would have three sets of problems which would pop out at random selection. At the end of the quiz, participant would be provided with the final score and could rate the quiz for future imporvement."
   ]
  },
  {
   "cell_type": "markdown",
   "metadata": {},
   "source": [
    "## Project Code\n",
    "\n",
    "If it makes sense for your project, you can have code and outputs here in the notebook as well."
   ]
  },
  {
   "cell_type": "code",
   "execution_count": 1,
   "metadata": {
    "scrolled": true
   },
   "outputs": [],
   "source": [
    "from my_module.functions import start_quiz"
   ]
  },
  {
   "cell_type": "code",
   "execution_count": 2,
   "metadata": {},
   "outputs": [
    {
     "name": "stdout",
     "output_type": "stream",
     "text": [
      "\u001b[1m============================= test session starts ==============================\u001b[0m\n",
      "platform linux -- Python 3.9.5, pytest-6.2.5, py-1.10.0, pluggy-1.0.0\n",
      "rootdir: /home/zhzheng/FinalProject_COGS18_WI22\n",
      "plugins: anyio-3.2.1\n",
      "collected 6 items                                                              \u001b[0m\n",
      "\n",
      "my_module/test_functions.py \u001b[32m.\u001b[0m\u001b[32m.\u001b[0m\u001b[32m.\u001b[0m\u001b[32m.\u001b[0m\u001b[32m.\u001b[0m\u001b[32m.\u001b[0m\u001b[32m                                       [100%]\u001b[0m\n",
      "\n",
      "\u001b[32m============================== \u001b[32m\u001b[1m6 passed\u001b[0m\u001b[32m in 0.09s\u001b[0m\u001b[32m ===============================\u001b[0m\n"
     ]
    }
   ],
   "source": [
    "# test functions\n",
    "!pytest"
   ]
  },
  {
   "cell_type": "code",
   "execution_count": 3,
   "metadata": {},
   "outputs": [
    {
     "name": "stdout",
     "output_type": "stream",
     "text": [
      "\n",
      " Hi! Welcome to the Meteorology Quiz!\n",
      "\n",
      " Today we will explore the weather in San Diego.\n",
      "\n",
      "Do you currently live or have you lived in San Diego?Yes！\n",
      "\n",
      " That's wonderful! Let's see how you know this place.\n",
      "\n",
      "Which is the wettest month in San Diego?3\n",
      "\n",
      " Sorry, the correct answer would be November.\n",
      "\n",
      "Which is the coldest month in San Diego?12\n",
      "\n",
      " You got it!\n",
      "\n",
      "Which is the windiest month in San Diego?nov\n",
      "\n",
      " Sorry, the correct answer would be December.\n",
      "\n",
      "\n",
      " Your score for this small quiz is 1. Thanks for your participation.\n",
      "\n",
      "\n",
      " Please rate this quiz based on your experience in any aspect. Rating scale from 1 to 5, with 5 as the highest level.\n",
      "1\n",
      "\n",
      " Okay. Restart the quiz for you right now.\n",
      "\n",
      " Welcome back.\n",
      "\n",
      "Which is the wettest month in San Diego?NOV.\n",
      "\n",
      " You got it!\n",
      "\n",
      "Which is the windiest month in San Diego?jan\n",
      "\n",
      " Sorry, the correct answer would be December.\n",
      "\n",
      "What is the driest month?07\n",
      "\n",
      " Sorry, the correct answer would be Auguest.\n",
      "\n",
      "\n",
      " Your score for this small quiz is 1. Thanks for your participation.\n",
      "\n",
      "\n",
      " Please rate this quiz based on your experience in any aspect. Rating scale from 1 to 5, with 5 as the highest level.\n",
      "3\n",
      "\n",
      " Your score is just so-so as well.\n",
      "\n",
      "\n",
      " Goodbye!\n",
      "\n"
     ]
    }
   ],
   "source": [
    "# start chatbot\n",
    "start_quiz()"
   ]
  },
  {
   "cell_type": "markdown",
   "metadata": {},
   "source": [
    "#### Extra Credit (*optional*)\n",
    "\n",
    "Replace all of this text with a brief explanation (~3 sentences) of: \n",
    "1. Your Python Background\n",
    "2. How your project went above and beyond the requirements of the project and/or how you challenged yourself to learn something new with the final project"
   ]
  },
  {
   "cell_type": "markdown",
   "metadata": {},
   "source": [
    "I never learned Python or other programming languages before. For this project, I create all my functions with class stuff, including `print`, `numpy`, `for` loop, `if`/`else` condition, `try`/`expect`.<br>\n",
    "I learned a lot from the design process: how to find the right algorithm to process according to task goals, and more importantly, how to improve the code based on the user's perspective. For example, although the answers to this quiz are all about months, it is necessary to take into account the differences in the user's input of answers, such as letter case, punctuation, number format, etc."
   ]
  },
  {
   "cell_type": "code",
   "execution_count": null,
   "metadata": {},
   "outputs": [],
   "source": []
  }
 ],
 "metadata": {
  "kernelspec": {
   "display_name": "Python 3 (ipykernel)",
   "language": "python",
   "name": "python3"
  },
  "language_info": {
   "codemirror_mode": {
    "name": "ipython",
    "version": 3
   },
   "file_extension": ".py",
   "mimetype": "text/x-python",
   "name": "python",
   "nbconvert_exporter": "python",
   "pygments_lexer": "ipython3",
   "version": "3.9.5"
  }
 },
 "nbformat": 4,
 "nbformat_minor": 2
}
